{
 "cells": [
  {
   "cell_type": "markdown",
   "id": "48e48f49-b99d-4501-94bd-1c9474c18b5d",
   "metadata": {
    "jp-MarkdownHeadingCollapsed": true
   },
   "source": [
    "### Math Basis:"
   ]
  },
  {
   "cell_type": "markdown",
   "id": "da8dc4da-b5cb-43fc-86c7-657489aaa247",
   "metadata": {},
   "source": [
    "#### Time $(t)$:\n",
    "The function below calculates time in days with 01/01/2000 as the base date.\n",
    "\n",
    "*The error inside an interval of 1000 years before or after 01/01/2000 for the position $M$ of the sun is 1 arcmin, which is $\\sim 0.02\\textdegree$*"
   ]
  },
  {
   "cell_type": "markdown",
   "id": "9caa0006-ec1d-4c84-ae22-82b09a738e29",
   "metadata": {},
   "source": [
    "#### Eccentric Anomaly $(E)$:\n",
    "From Kepler's equations:\n",
    "$$ M = E - e \\sin{E} $$\n",
    "Rewriting it:\n",
    "$$ E = M + e \\sin{E} $$\n",
    "Considering both sides of the equation as functions of the eccentric anomaly $E$:\n",
    "\n",
    "$ f(E) = E $\n",
    "\n",
    "$ g(E) = M + e \\sin{E} $\n",
    "\n",
    "Finding the point $E$ where $f(E) = g(E)$ will give the eccentric anomaly $E$:\n",
    "$$ f(E) - g(E) = 0 $$\n",
    "The method that will be used to find the root of the expression above is known as **Newton Rapshon's** method.\n",
    "\n",
    "To use *Newton Raphson's* method to find the root of a function $h(x)$, the derivative of the function $\\frac{dh(x)}{dx}$ is needed.\n",
    "$$h(x) = f(E) - g(E)$$\n",
    "Using values of the functions $f(E)$ and $g(E)$:\n",
    "\n",
    "$$h(x) = E - M - e \\sin{E}$$\n",
    "$$\\frac{dh(x)}{dx} = 1 - e \\cos(E)$$\n",
    "\n",
    "With the functions above it is possible to approximate the root of $h(x)$ and, therefore, get the value of $E$ that satisfies Kepler's equation."
   ]
  },
  {
   "cell_type": "markdown",
   "id": "27e148e5-3e4b-46cb-bd5c-4a5af4c23f60",
   "metadata": {},
   "source": [
    "#### True anomaly $(\\nu)$:\n",
    "Here's the expression to calculate the true anomaly:\n",
    "$$\\tan{\\frac{\\nu}{2}}=\\sqrt{\\frac{1 + e}{1 - e}}\\tan{\\frac{E}{2}}$$\n",
    "It can be rewritten as:\n",
    "$$\\nu = 2 \\cdot \\arctan{\\left( {\\sqrt{\\frac{1 + e}{1 - e}}\\tan{\\frac{E}{2}}} \\right)}$$"
   ]
  },
  {
   "cell_type": "markdown",
   "id": "24687a58-009e-4eea-ae2c-91894b672180",
   "metadata": {},
   "source": [
    "#### Heliocentric distance $(r)$:\n",
    "The expression below can be used to calculate the heliocentric distance $r$ using the *true anomaly* $\\nu$, the semi-major axis of the orbit $a$ and the eccentricitty $e$.\n",
    "$$r = \\frac{a (1 - e^2)}{1 + e \\cos{\\nu}}$$\n",
    "The heliocentric distance can also be expressed in terms of the eccentric anomaly $E$:\n",
    "$$r = a (1 - e \\cos{E})$$"
   ]
  },
  {
   "cell_type": "markdown",
   "id": "0616b5d8-21b7-48f7-a69e-8eb4dc32b94e",
   "metadata": {},
   "source": [
    "#### Barycenter:\n",
    "The center of mass of a system can be calculated with a weighted average of $n$ particles of mass $M_k$ in a position $P_k$:\n",
    "$$P_{cm} = \\frac{1}{M_t}\\sum_{i=0}^{n} M_k \\cdot P_k$$\n",
    "Where $M_t$ is the total mass of the system:\n",
    "$$M_t = \\sum_{i=0}^{n} M_k$$\n",
    "Considering 3-dimensional vectors $P_k$ and $P_{cm}$:\n",
    "$$P_{cm} = [x_{cm}, y_{cm}, z_{cm}]$$\n",
    "$$P_k = [x_k, y_k, z_k]$$\n",
    "Each axis can be evaluated individually:\n",
    "$$x_{cm} = \\frac{1}{M_t}\\sum_{i=0}^{n} M_k \\cdot x_k$$\n",
    "$$y_{cm} = \\frac{1}{M_t}\\sum_{i=0}^{n} M_k \\cdot y_k$$\n",
    "$$z_{cm} = \\frac{1}{M_t}\\sum_{i=0}^{n} M_k \\cdot z_k$$\n",
    "Calculating star distance from barycenter in kilometers $\\Delta_{(km)}$, where $P_s$ is the star's position.:\n",
    "$$\\Delta_{(km)} = |P_{cm} - P_s|$$\n",
    "Dividing the distance $\\Delta_{(km)}$ by the star's radius $R_s$ results in $\\Delta$:\n",
    "$$\\Delta = \\frac{\\Delta_{(km)}}{R_s}$$\n",
    "Then, if $\\Delta > 1$, the barycenter is outside the star, otherwise it is inside."
   ]
  },
  {
   "cell_type": "markdown",
   "id": "719d09b8-4317-44e6-aa36-fc57ca5cdfeb",
   "metadata": {},
   "source": [
    "### Execution:"
   ]
  },
  {
   "cell_type": "code",
   "execution_count": 5,
   "id": "dbc94daf-b868-4eb2-84cc-2c8c25197198",
   "metadata": {
    "jupyter": {
     "source_hidden": true
    }
   },
   "outputs": [],
   "source": [
    "# Importing modules\n",
    "import matplotlib.pyplot as plot;\n",
    "import pandas as pd;\n",
    "import numpy as np;"
   ]
  },
  {
   "cell_type": "code",
   "execution_count": 6,
   "id": "8850180f-57b5-41ba-abfa-e38fc3709e03",
   "metadata": {
    "jupyter": {
     "source_hidden": true
    }
   },
   "outputs": [],
   "source": [
    "# Converts radians to angle rounded to third decimal case.\n",
    "def ToAngle(value): return np.round(value * 180 / np.pi, 3);\n",
    "\n",
    "# Adjusts angle to be between 0 and 2 pi. Parameter in radians.\n",
    "def AdjustAngle(angle):\n",
    "    newAng = angle;\n",
    "    \n",
    "    k = angle // (2 * np.pi);\n",
    "    newAng += -k * 2 * np.pi;\n",
    "\n",
    "    return newAng;"
   ]
  },
  {
   "cell_type": "markdown",
   "id": "94cc0e73-d626-4ea9-a7c8-131516c4d3ae",
   "metadata": {},
   "source": [
    "#### 1. Time:"
   ]
  },
  {
   "cell_type": "code",
   "execution_count": 7,
   "id": "4b63ce13-6e9c-499b-87d7-9e46744ea6b1",
   "metadata": {
    "jupyter": {
     "source_hidden": true
    }
   },
   "outputs": [],
   "source": [
    "# Calculates times in days from 01/01/2000.\n",
    "def TimeInDays(date, time):\n",
    "    # Date format: dd/mm/yyyy\n",
    "    # Time format: hh:mm\n",
    "    \n",
    "    date_, time_ = [], [];\n",
    "    for num in date.split(\"/\"): date_.append(int(num));\n",
    "    for num in time.split(\":\"): time_.append(int(num));\n",
    "    \n",
    "    d, m, y = date_;\n",
    "    h, mi = time_;\n",
    "\n",
    "    # Calculating date time in days\n",
    "    dateDays = 367 * y - int(7 * (y + int((m + 9) / 12)) / 4) + int(275 * m / 9) + d - 730530;\n",
    "    # Calculating hours and minutes time in days\n",
    "    timeDays = h / 24 + mi / 1440;\n",
    "    \n",
    "    # Truncating to the third decimal case and returning value.\n",
    "    return round(dateDays + timeDays, 3); "
   ]
  },
  {
   "cell_type": "code",
   "execution_count": 8,
   "id": "fbdd2fc7-b1de-481f-a612-ba43afd9511a",
   "metadata": {},
   "outputs": [
    {
     "name": "stdout",
     "output_type": "stream",
     "text": [
      "246128.403\n"
     ]
    }
   ],
   "source": [
    "# Calculating time to use in parameters.\n",
    "daysTime = TimeInDays(\"10/11/2673\", \"09:40\"); print(daysTime);"
   ]
  },
  {
   "cell_type": "markdown",
   "id": "02c4cff6-0d1f-4cb9-be32-7bea7b85068e",
   "metadata": {},
   "source": [
    "#### 2. Orbital parameters $(\\Omega, i, \\varpi, a, e, M)$ and masses $(m)$:"
   ]
  },
  {
   "cell_type": "code",
   "execution_count": 9,
   "id": "5d8f9804-1e3d-490a-a1c5-1fc472299c0f",
   "metadata": {
    "jupyter": {
     "source_hidden": true
    }
   },
   "outputs": [],
   "source": [
    "# Gets parameters from data collected using pd.read_csv.\n",
    "def GetParameters(data, time):\n",
    "    # Parameters are split in a and b from linear function parameters.\n",
    "    # Order of parameters: omega, i, w, a, e, M.\n",
    "    \n",
    "    arr = data.to_numpy().transpose();\n",
    "\n",
    "    # Creating array with parameters a set time using coefficients of function a and b. \n",
    "    # Example: P(t) = at + b.\n",
    "    # Coefficients a are odd, b are even.\n",
    "    arr_ = np.zeros((int(arr.shape[0] / 2), arr.shape[1]));\n",
    "    for i in range(0, len(arr), 2): \n",
    "        curIdx = int(i / 2);\n",
    "        arr_[curIdx] = arr[i + 1] * time + arr[i];\n",
    "\n",
    "        if (i == 6 or i == 8): continue; # Ignoring non-angular parameters (a and e).\n",
    "        k = arr_[curIdx] // 360;\n",
    "        arr_[curIdx] += -k * 360;\n",
    "        arr_[curIdx] *= np.pi / 180;\n",
    "\n",
    "    return arr_;"
   ]
  },
  {
   "cell_type": "code",
   "execution_count": 10,
   "id": "e0270fd8-febc-4734-9058-cf3d34ef1be6",
   "metadata": {
    "jupyter": {
     "source_hidden": true
    }
   },
   "outputs": [
    {
     "name": "stdout",
     "output_type": "stream",
     "text": [
      "[ 56.32   82.749   0.     54.753 107.268 119.545  77.441 139.207]\n",
      "[7.017 3.401 0.    1.845 1.265 2.462 0.778 1.707]\n",
      "[ 31.621  58.297 294.531 293.712 277.927 346.72  104.184 271.363]\n",
      "[ 0.3871   0.72333  1.       1.52369  5.20256  9.55475 19.1779  30.06641]\n",
      "[0.20577 0.00645 0.01643 0.09402 0.0496  0.05321 0.04915 0.00914]\n",
      "[128.396 177.759 300.265 114.999 309.547 268.541 148.644 295.823]\n"
     ]
    }
   ],
   "source": [
    "# Collecting parameters from csv files.\n",
    "paraData = pd.read_csv(\"parameters.csv\", sep=r\"\\s+\", header=None);\n",
    "massData = pd.read_csv(\"masses.csv\", sep=r\"\\s+\", header=None)\n",
    "rawParameters = GetParameters(paraData, daysTime);\n",
    "\n",
    "omega, i, w, a, e, M = rawParameters;\n",
    "m_ = massData.to_numpy().transpose()[0]; \n",
    "\n",
    "# Calculating star parameters individually.\n",
    "starPos  = np.zeros(3);\n",
    "starMass = m_[0];\n",
    "\n",
    "m = m_[1:]; # Separating star mass from planets masses \n",
    "\n",
    "# Constants\n",
    "auKm       = 49597870.7;\n",
    "starRadius = 696340;\n",
    "numBodies  = len(M);\n",
    "\n",
    "for i, parameter in enumerate(rawParameters):\n",
    "    if (i == 3 or i == 4): print(np.round(parameter, 5)); continue;\n",
    "    print(ToAngle(parameter));"
   ]
  },
  {
   "cell_type": "markdown",
   "id": "32cac1a6-df97-41b1-a008-c5a7d464fb1a",
   "metadata": {},
   "source": [
    "#### 3. Eccentric anomaly $(E)$:"
   ]
  },
  {
   "cell_type": "code",
   "execution_count": 11,
   "id": "1e61f5e1-7895-4c63-abd7-2848e5c38a7a",
   "metadata": {
    "jupyter": {
     "source_hidden": true
    }
   },
   "outputs": [],
   "source": [
    "# Newton Raphson method for finding roots of functions.\n",
    "def NewtonRaphson(f, df, z0, maxIter, rootRange):\n",
    "    z = z0;\n",
    "    for i in range(maxIter):\n",
    "        deriv = df(z);\n",
    "        if (deriv == 0): deriv = rootRange;\n",
    "        if (abs(f(z).real) <= rootRange): return z;\n",
    "\n",
    "        z -= f(z) / deriv; \n",
    "        \n",
    "    return None; # No root was found.\n",
    "\n",
    "# Finds the eccentric anomaly given M and e.\n",
    "def KeplerEquation(M, e):\n",
    "    k  = lambda E: E - M - e * np.sin(E);\n",
    "    dk = lambda E: 1 - e * np.cos(E);\n",
    "\n",
    "    # Finding E value when E - M - e sin(E) = 0 and adjusting it.\n",
    "    return AdjustAngle(NewtonRaphson(k, dk, M, 50, 5e-6));"
   ]
  },
  {
   "cell_type": "code",
   "execution_count": 12,
   "id": "3012bfb0-a597-4e3e-8f61-17be60a25d25",
   "metadata": {
    "scrolled": true
   },
   "outputs": [
    {
     "name": "stdout",
     "output_type": "stream",
     "text": [
      "[136.51  177.773 299.445 119.679 307.286 265.502 150.05  295.35 ]\n"
     ]
    }
   ],
   "source": [
    "# Calculating eccentric anomaly \n",
    "E = np.zeros(numBodies);\n",
    "for k in range(numBodies): E[k] = KeplerEquation(M[k], e[k]);\n",
    "\n",
    "print(ToAngle(E));"
   ]
  },
  {
   "cell_type": "markdown",
   "id": "92bee29d-5db7-4662-a4be-ce5131532910",
   "metadata": {},
   "source": [
    "#### 4. True anomaly $(\\nu)$:"
   ]
  },
  {
   "cell_type": "code",
   "execution_count": 13,
   "id": "0476ef47-d393-4235-952a-b2261b303194",
   "metadata": {
    "jupyter": {
     "source_hidden": true
    }
   },
   "outputs": [],
   "source": [
    "# Calculates true anomaly with eccentric anomaly and eccentricity.\n",
    "def TrueAnomaly(E, e):  \n",
    "    return AdjustAngle(2 * np.atan(np.sqrt((1 + e) / (1 - e)) * np.tan(E / 2)));"
   ]
  },
  {
   "cell_type": "code",
   "execution_count": 14,
   "id": "b3800e3e-9e66-4e4a-9c03-865c2d248a69",
   "metadata": {
    "scrolled": true
   },
   "outputs": [
    {
     "name": "stdout",
     "output_type": "stream",
     "text": [
      "[144.125 177.787 298.622 124.261 304.99  262.468 151.428 294.876]\n"
     ]
    }
   ],
   "source": [
    "# Calculating true anomaly \n",
    "v = TrueAnomaly(E, e); print(ToAngle(v)); "
   ]
  },
  {
   "cell_type": "markdown",
   "id": "ed4c0907-6e52-4357-90c4-72411ce681a2",
   "metadata": {},
   "source": [
    "#### 5. Distances $(au)$:"
   ]
  },
  {
   "cell_type": "code",
   "execution_count": 15,
   "id": "e0b8c196-04d7-4958-9eae-f1a3c31a5479",
   "metadata": {
    "jupyter": {
     "source_hidden": true
    }
   },
   "outputs": [],
   "source": [
    "# Calculates heliocentric distance r from planet.\n",
    "def Distance(E, e, a): return a * (1 - e * np.cos(E));\n",
    "def Distance_(v, e, a): return a * (1 - e * e) / (1 + e * np.cos(v));"
   ]
  },
  {
   "cell_type": "code",
   "execution_count": 16,
   "id": "abe8a0e5-6953-430f-8135-cc9b8ee91a9c",
   "metadata": {
    "scrolled": true
   },
   "outputs": [
    {
     "name": "stdout",
     "output_type": "stream",
     "text": [
      "[ 0.4449  0.728   0.9919  1.5946  5.0462  9.5946 19.9946 29.9488]\n"
     ]
    }
   ],
   "source": [
    "# Calculating heliocentric distance (au)\n",
    "r = Distance(E, e, a); print(np.round(r, 4));"
   ]
  },
  {
   "cell_type": "markdown",
   "id": "b1d2a8fc-7a69-4a40-8c41-eaf7a0fcf64e",
   "metadata": {},
   "source": [
    "#### 6. Cartesian coordinates:"
   ]
  },
  {
   "cell_type": "code",
   "execution_count": 17,
   "id": "78806776-5f99-45c5-8a5b-e58e5ac83c96",
   "metadata": {
    "jupyter": {
     "source_hidden": true
    }
   },
   "outputs": [],
   "source": [
    "# Calculates x, y, z positions of planets in cartesian coordinates. Parameters should be numpy arrays.\n",
    "# r is in kilometers\n",
    "def CartesianCoordinates(r, omega, w, v, i):\n",
    "    x = r * (np.cos(omega) * np.cos(w + v) - np.sin(omega) * np.sin(w + v) * np.cos(i));\n",
    "    y = r * (np.sin(omega) * np.cos(w + v) + np.cos(omega) * np.sin(w + v) * np.cos(i));\n",
    "    z = r * (np.sin(w + v) * np.sin(i));\n",
    "\n",
    "    return x, y, z;"
   ]
  },
  {
   "cell_type": "code",
   "execution_count": 18,
   "id": "90de85fe-cfef-485b-9b2a-5b8427d0402b",
   "metadata": {
    "scrolled": true
   },
   "outputs": [
    {
     "name": "stdout",
     "output_type": "stream",
     "text": [
      "X: [-1.25890152e+07  5.88880065e+06 -2.95023502e+07  8.67224580e+06\n",
      "  1.00574561e+08  1.93146159e+08  2.12377953e+08  1.13038766e+09]\n",
      "Y: [-1.80537027e+07 -2.10583831e+07 -1.11677696e+07  4.52300883e+07\n",
      " -1.60681755e+08 -8.48711395e+07 -2.99779077e+08 -7.29423857e+08]\n",
      "Z: [-1.56952622e+06  2.87328694e+07  3.77528126e+07 -6.42981830e+07\n",
      "  1.63424737e+08  4.26551509e+08  9.21130232e+08  6.29738587e+08]\n"
     ]
    }
   ],
   "source": [
    "# Calculating cartesian coordinates (km):\n",
    "x, y, z = CartesianCoordinates(r * auKm, omega, w, v, i); \n",
    "print(f\"X: {x}\\nY: {y}\\nZ: {z}\");"
   ]
  },
  {
   "cell_type": "markdown",
   "id": "95406d03-22c5-43cd-91ec-07032f5b5129",
   "metadata": {},
   "source": [
    "#### 7. Eliptic coordinates:"
   ]
  },
  {
   "cell_type": "code",
   "execution_count": 19,
   "id": "dee0bd51-a93a-405d-a34b-b9730f87036f",
   "metadata": {},
   "outputs": [],
   "source": [
    "# Calculate l, b positions of planets in heliocentric ecliptic coordinates. Parameters should be numpy arrays.\n",
    "def EclipticCoordinates(x, y, z):\n",
    "    l = np.atan(y / x);\n",
    "    b = np.atan(z / np.sqrt(x * x + y * y));\n",
    "\n",
    "    return AdjustAngle(l), b;"
   ]
  },
  {
   "cell_type": "code",
   "execution_count": 20,
   "id": "f0ad4064-9376-490a-b209-2997e002a169",
   "metadata": {
    "scrolled": true
   },
   "outputs": [
    {
     "name": "stdout",
     "output_type": "stream",
     "text": [
      "l: [ 55.112 285.623  20.734  79.146 302.043 336.279 305.316 327.166]\n",
      "b: [ -4.079  52.728  50.119 -54.388  40.765  63.683  68.256  25.084]\n"
     ]
    }
   ],
   "source": [
    "# Calculating heliocentric ecliptic coordinates\n",
    "l, b = EclipticCoordinates(x, y, z); \n",
    "print(f\"l: {ToAngle(l)}\\nb: {ToAngle(b)}\");"
   ]
  },
  {
   "cell_type": "markdown",
   "id": "3e5db8b4-269e-4fa6-9152-39e40d0e2edb",
   "metadata": {},
   "source": [
    "#### 8. Barycenter coordinates:"
   ]
  },
  {
   "cell_type": "code",
   "execution_count": 21,
   "id": "0eb30ad9-f820-4076-b54c-427637fc941c",
   "metadata": {
    "jupyter": {
     "source_hidden": true
    }
   },
   "outputs": [],
   "source": [
    "# Calculates baricenter of planets in the system, parameters should be numpy arrays.\n",
    "def Barycenter(starMass, m, x, y, z):\n",
    "    totalMass = np.sum(m) + starMass;\n",
    "    \n",
    "    xb = np.sum(m * x) / totalMass;\n",
    "    yb = np.sum(m * y) / totalMass;\n",
    "    zb = np.sum(m * z) / totalMass;\n",
    "\n",
    "    return np.array([xb, yb, zb]);\n",
    "\n",
    "# Calculates distance from star and barycenter. Returns distance and distance / star radius.\n",
    "def DeltaBarycenter(Pb, Ps, Rs): \n",
    "    deltaBarycenter = np.linalg.norm(Pb - Ps); \n",
    "    \n",
    "    return deltaBarycenter, deltaBarycenter / Rs;"
   ]
  },
  {
   "cell_type": "code",
   "execution_count": 22,
   "id": "c5fef312-02f3-4ddf-9c1a-953ceca2b1d1",
   "metadata": {},
   "outputs": [
    {
     "name": "stdout",
     "output_type": "stream",
     "text": [
      "[ 218327.527963 -228055.128838  350247.368746]\n"
     ]
    }
   ],
   "source": [
    "# Calculating barycenter (km)\n",
    "barycenter = Barycenter(starMass, m, x, y, z); print(np.round(barycenter, 6));"
   ]
  },
  {
   "cell_type": "markdown",
   "id": "df208abd-0666-4264-bcd8-91ad859d1721",
   "metadata": {},
   "source": [
    "#### 9. Barycenter delta $(\\Delta)$:"
   ]
  },
  {
   "cell_type": "code",
   "execution_count": 23,
   "id": "cf956e4d-5114-490c-bca4-fbca28b505de",
   "metadata": {},
   "outputs": [
    {
     "name": "stdout",
     "output_type": "stream",
     "text": [
      "471539.256657 0.677168\n"
     ]
    }
   ],
   "source": [
    "deltaKm, delta = DeltaBarycenter(barycenter, starPos, starRadius); print(np.round(deltaKm, 6), np.round(delta, 6));"
   ]
  },
  {
   "cell_type": "markdown",
   "id": "dcc5d8f1-80f9-47b3-94c0-9441646c2d38",
   "metadata": {},
   "source": [
    "#### 10. Positions Plot:"
   ]
  },
  {
   "cell_type": "code",
   "execution_count": 24,
   "id": "d1883b98-2711-404e-9d5b-edac20300fe1",
   "metadata": {
    "scrolled": true
   },
   "outputs": [
    {
     "data": {
      "image/png": "[encoded data removed]",
      "text/plain": [
       "<Figure size 640x480 with 1 Axes>"
      ]
     },
     "metadata": {},
     "output_type": "display_data"
    }
   ],
   "source": [
    "# Plotting angular positions\n",
    "fig, ax = plot.subplots(subplot_kw={'projection': 'polar'});\n",
    "ax.scatter(l, range(1, numBodies + 1), c='k');\n",
    "\n",
    "ax.set_rlabel_position(0);\n",
    "plot.grid(linestyle=\"--\");\n",
    "fig.savefig(\"angPositions.png\");\n",
    "\n",
    "plot.show();"
   ]
  },
  {
   "cell_type": "markdown",
   "id": "ec1e3144-c040-45bc-b8dc-d964ccc2ae60",
   "metadata": {
    "jp-MarkdownHeadingCollapsed": true
   },
   "source": [
    "### Prints for latex tables code:"
   ]
  },
  {
   "cell_type": "code",
   "execution_count": 43,
   "id": "6c5050a7-be43-4dc3-a23d-9f89c8b5408b",
   "metadata": {
    "scrolled": true
   },
   "outputs": [],
   "source": [
    "# List of planet names.\n",
    "planetNames = [\"Mercury\", \"Venus\", \"Earth\", \"Mars\", \"Jupiter\", \"Saturn\", \"Uranus\", \"Neptune\"];\n",
    "indexes     = range(1, len(planetNames) + 1);"
   ]
  },
  {
   "cell_type": "code",
   "execution_count": 44,
   "id": "2a45962b-575a-4896-9d50-08a737feffe4",
   "metadata": {
    "scrolled": true
   },
   "outputs": [
    {
     "name": "stdout",
     "output_type": "stream",
     "text": [
      "1 & Mercury & 49.128 & 7.006 & 29.373 & 0.387098 & 0.205649 & 134.565 & 141.844 & 148.638 & 0.449695 \\\\ \n",
      "2 & Venus & 77.285 & 3.395 & 55.231 & 0.72333 & 0.006741 & 116.459 & 116.804 & 117.148 & 0.725529 \\\\ \n",
      "3 & Earth & 0.0 & 0.0 & 284.096 & 1.0 & 0.016681 & 57.866 & 58.682 & 59.502 & 0.99133 \\\\ \n",
      "4 & Mars & 50.075 & 1.849 & 287.22 & 1.523688 & 0.093467 & 275.514 & 270.158 & 264.795 & 1.523294 \\\\ \n",
      "5 & Jupiter & 101.133 & 1.299 & 274.281 & 5.20256 & 0.048608 & 258.403 & 255.704 & 253.02 & 5.265006 \\\\ \n",
      "6 & Saturn & 114.25 & 2.486 & 340.124 & 9.55475 & 0.055313 & 57.525 & 60.277 & 63.069 & 9.292718 \\\\ \n",
      "7 & Uranus & 74.343 & 0.774 & 97.411 & 19.18133 & 0.047501 & 70.285 & 72.886 & 75.506 & 18.913203 \\\\ \n",
      "8 & Neptune & 132.521 & 1.764 & 272.698 & 30.059073 & 0.008659 & 47.339 & 47.706 & 48.074 & 29.883924 \\\\ \n"
     ]
    }
   ],
   "source": [
    "# Printing orbital parameters for latex code.\n",
    "orbitalParameters = [];\n",
    "\n",
    "# Adding indexes and planet names\n",
    "orbitalParameters.append(indexes);\n",
    "orbitalParameters.append(planetNames);\n",
    "\n",
    "for i, parameter in enumerate(rawParameters):\n",
    "    # Ignoring non-angle parameters (a and e).\n",
    "    if (i == 3 or i == 4): orbitalParameters.append(np.round(parameter, 6)); continue;\n",
    "    orbitalParameters.append(ToAngle(parameter));\n",
    "\n",
    "calculatedParameters = [E, v, r];\n",
    "for i,_ in enumerate(calculatedParameters):\n",
    "    # Rounding distance in au\n",
    "    if (i == 2): orbitalParameters.append(np.round(r, 6)); continue; \n",
    "    orbitalParameters.append(ToAngle(calculatedParameters[i]));\n",
    " \n",
    "arr = np.array(orbitalParameters).transpose();\n",
    "for i,_ in enumerate(arr):\n",
    "    for j,_ in enumerate(arr[i]):\n",
    "        if (j == len(arr[i]) - 1): end_ = \" \\\\\\\\ \\n\"; \n",
    "        else: end_ = \" & \";\n",
    "            \n",
    "        print(arr[i][j], end=end_);"
   ]
  },
  {
   "cell_type": "code",
   "execution_count": 45,
   "id": "e449a88c-29e9-490f-8b79-4fb634854424",
   "metadata": {
    "scrolled": true
   },
   "outputs": [
    {
     "name": "stdout",
     "output_type": "stream",
     "text": [
      "1 & Mercury & -845248577.757 & -957509865.229 & -42527688.083 & 48.563 & -1.907 \\\\ \n",
      "2 & Venus & -525455755.889 & -1976370582.476 & -262208001.347 & 75.111 & -7.306 \\\\ \n",
      "3 & Earth & 2702466702.202 & -225646101.138 & 762800030.998 & 355.227 & 15.71 \\\\ \n",
      "4 & Mars & -2521261089.999 & -3411044702.065 & 864112911.61 & 53.53 & 11.515 \\\\ \n",
      "5 & Jupiter & 1902999786.174 & -14501311169.915 & -3153839056.347 & 277.476 & -12.169 \\\\ \n",
      "6 & Saturn & -12582013067.107 & 15447715231.818 & -17332648717.524 & 309.162 & -41.022 \\\\ \n",
      "7 & Uranus & -16204048818.868 & -50850139724.315 & -6354973687.352 & 72.325 & -6.791 \\\\ \n",
      "8 & Neptune & -33232614944.258 & 58781113309.906 & 51499731942.134 & 299.482 & 37.332 \\\\ \n"
     ]
    }
   ],
   "source": [
    "# Printing cartesian and eliptic coordinates for latex code.\n",
    "allCoordinates = [];\n",
    "\n",
    "allCoordinates.append(indexes);\n",
    "allCoordinates.append(planetNames);\n",
    "\n",
    "coordList = [x, y, z, l, b];\n",
    "for i,_ in enumerate(coordList): allCoordinates.append(ToAngle(coordList[i]));\n",
    "\n",
    "arr = np.array(allCoordinates).transpose();\n",
    "for i,_ in enumerate(arr):\n",
    "    for j,_ in enumerate(arr[i]):\n",
    "        if (j == len(arr[i]) - 1): end_ = \" \\\\\\\\ \\n\"; \n",
    "        else: end_ = \" & \";\n",
    "            \n",
    "        print(arr[i][j], end=end_);"
   ]
  }
 ],
 "metadata": {
  "kernelspec": {
   "display_name": "Python 3 (ipykernel)",
   "language": "python",
   "name": "python3"
  },
  "language_info": {
   "codemirror_mode": {
    "name": "ipython",
    "version": 3
   },
   "file_extension": ".py",
   "mimetype": "text/x-python",
   "name": "python",
   "nbconvert_exporter": "python",
   "pygments_lexer": "ipython3",
   "version": "3.13.2"
  },
  "widgets": {
   "application/vnd.jupyter.widget-state+json": {
    "state": {},
    "version_major": 2,
    "version_minor": 0
   }
  }
 },
 "nbformat": 4,
 "nbformat_minor": 5
}
